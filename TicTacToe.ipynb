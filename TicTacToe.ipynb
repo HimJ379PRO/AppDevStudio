{
  "nbformat": 4,
  "nbformat_minor": 0,
  "metadata": {
    "colab": {
      "provenance": []
    },
    "kernelspec": {
      "name": "python3",
      "display_name": "Python 3"
    },
    "language_info": {
      "name": "python"
    }
  },
  "cells": [
    {
      "cell_type": "markdown",
      "source": [
        "# Scope"
      ],
      "metadata": {
        "id": "nSAk2SgHbm8j"
      }
    },
    {
      "cell_type": "markdown",
      "source": [
        "1. We need to print a board.\n",
        "2. Take in player input.\n",
        "3. Place their input on the board.\n",
        "4. Check if the game is won,tied, lost, or ongoing.\n",
        "5. Repeat 3 and 4 until the game has been won or tied.\n",
        "6. Ask if players want to play again."
      ],
      "metadata": {
        "id": "3Qy31wo8bSoC"
      }
    },
    {
      "cell_type": "markdown",
      "source": [
        "# Import Packages & Modules"
      ],
      "metadata": {
        "id": "bKdDw6qHbs2Y"
      }
    },
    {
      "cell_type": "code",
      "source": [
        "from IPython.core.display import clear_output\n",
        "from random import randint"
      ],
      "metadata": {
        "id": "uqVV6IvynFkz"
      },
      "execution_count": null,
      "outputs": []
    },
    {
      "cell_type": "markdown",
      "source": [
        "# Functions"
      ],
      "metadata": {
        "id": "h24al3pSbvlJ"
      }
    },
    {
      "cell_type": "code",
      "execution_count": null,
      "metadata": {
        "id": "A4Wxc3jIvEIQ"
      },
      "outputs": [],
      "source": [
        "def positions_board():\n",
        "    title = 'Positions on Board'\n",
        "    divider = ' - - - - '\n",
        "    row1 = ' 1 | 2 | 3 '\n",
        "    row2 = ' 4 | 5 | 6 '\n",
        "    row3 = ' 7 | 8 | 9 '\n",
        "\n",
        "    print(' ', title.center(20), ''.center(20), row1.center(20), divider.center(20), row2.center(20), divider.center(20), row3.center(20), '', '-<o>-'.center(20), sep='\\n')"
      ]
    },
    {
      "cell_type": "code",
      "source": [
        "positions_board()"
      ],
      "metadata": {
        "colab": {
          "base_uri": "https://localhost:8080/"
        },
        "id": "cMIshbDqv0jd",
        "outputId": "142e89ff-3e01-45e8-9729-996c68cb25fa"
      },
      "execution_count": null,
      "outputs": [
        {
          "output_type": "stream",
          "name": "stdout",
          "text": [
            " \n",
            " Positions on Board \n",
            "                    \n",
            "     1 | 2 | 3      \n",
            "      - - - -       \n",
            "     4 | 5 | 6      \n",
            "      - - - -       \n",
            "     7 | 8 | 9      \n",
            "\n",
            "       -<o>-        \n",
            " \n"
          ]
        }
      ]
    },
    {
      "cell_type": "code",
      "source": [
        "def show_board(board):\n",
        "    title = 'TicTacToe'\n",
        "    divider = ' - - - - '\n",
        "    row1 = ' '+board[1]+' | '+board[2]+' | '+board[3]+' '\n",
        "    row2 = ' '+board[4]+' | '+board[5]+' | '+board[6]+' '\n",
        "    row3 = ' '+board[7]+' | '+board[8]+' | '+board[9]+' '\n",
        "\n",
        "    print('', title.center(20), ''.center(20), row1.center(20), divider.center(20), row2.center(20), divider.center(20), row3.center(20), '', sep='\\n')"
      ],
      "metadata": {
        "id": "iR7r0Zc5eMZw"
      },
      "execution_count": null,
      "outputs": []
    },
    {
      "cell_type": "code",
      "source": [
        "def welcome():\n",
        "    player1 = input(\"Player 1 What's your name? \")\n",
        "    player2 = input(\"Player 2 What's your name? \")\n",
        "\n",
        "    clear_output()\n",
        "\n",
        "    print(f\"Welcome '{player1}' and '{player2}', Let's play TicTacToe\")\n",
        "    print('', f\"'{player1}' is 'X' and '{player2}' is 'O'\", '', sep = '\\n')\n",
        "\n",
        "    player1_marker = 'X'\n",
        "    player2_marker = 'O'\n",
        "\n",
        "    # print(\"These are the Positions on Board for your reference!\")\n",
        "    # positions_board()\n",
        "\n",
        "    return (player1, player2, player1_marker, player2_marker)"
      ],
      "metadata": {
        "id": "mwnAVup8wL42"
      },
      "execution_count": null,
      "outputs": []
    },
    {
      "cell_type": "code",
      "source": [
        "def player_choice(board):\n",
        "    choice = ''\n",
        "\n",
        "    while choice.isdigit() == False or (int(choice) in range(1,10)) == False or not position_availability(board, choice):\n",
        "        choice = input(\"Please enter Position on Board between 1 and 9: \")\n",
        "        if choice.isdigit() == False:\n",
        "            print(\"!Not a digit!\")\n",
        "        elif int(choice) not in range(1,10):\n",
        "            print(\"Please enter a valid number between 1 and 9\")\n",
        "        elif not position_availability(board, choice):\n",
        "            print('', f\"!!! Position {choice} is not available !!!\", '', sep = '\\n')\n",
        "\n",
        "    return int(choice)"
      ],
      "metadata": {
        "id": "31W7MdFoFQNy"
      },
      "execution_count": null,
      "outputs": []
    },
    {
      "cell_type": "code",
      "source": [
        "def place_marker(board, position, mark):\n",
        "    board[position] = mark"
      ],
      "metadata": {
        "id": "sL_v1QV4vkkQ"
      },
      "execution_count": null,
      "outputs": []
    },
    {
      "cell_type": "code",
      "source": [
        "# Write a fn that returns boolean if the position is marked or not marked.\n",
        "\n",
        "def position_availability(board, position):\n",
        "    return board[int(position)] == ' '"
      ],
      "metadata": {
        "id": "Bl1OcDYAHsya"
      },
      "execution_count": null,
      "outputs": []
    },
    {
      "cell_type": "code",
      "source": [
        "# Write a fn to check the winning pattern and return a boolean to indicate whether the game is won.\n",
        "\n",
        "def win_check(board, mark):\n",
        "\n",
        "    return ((board[1]==board[2]==board[3]==mark) or (board[6]==board[4]==board[5]==mark) or (board[9]==board[7]==board[8]==mark) or    # All 3 rows are same, exclude blank space\n",
        "        (board[9]==board[3]==board[6]==mark) or (board[1]==board[4]==board[7]==mark) or (board[2]==board[5]==board[8]==mark) or       # All 3 columns are same, exclude blank space\n",
        "        (board[1]==board[5]==board[9]==mark) or (board[3]==board[5]==board[7]==mark))                                                              # All 2 diagonals are same, exclude blank space"
      ],
      "metadata": {
        "id": "c_xRmwt3v7uV"
      },
      "execution_count": null,
      "outputs": []
    },
    {
      "cell_type": "code",
      "source": [
        "# Write a function that checks if the board is full and returns a boolean value. True if full, False otherwise.\n",
        "\n",
        "def full_board_check(board):\n",
        "    if board.count(' ') <= 1:\n",
        "        return True\n",
        "    else:\n",
        "        return False"
      ],
      "metadata": {
        "id": "t9RvHqkaJMRg"
      },
      "execution_count": null,
      "outputs": []
    },
    {
      "cell_type": "code",
      "source": [
        "# Write a fn to replay or stop the game.\n",
        "\n",
        "def replay():\n",
        "    choice = ''\n",
        "\n",
        "    while choice != ['y','n']:\n",
        "        choice = input(\"Do you want to play another round? (Y or N): \")\n",
        "\n",
        "        if choice.lower() == 'y':\n",
        "            return True\n",
        "        elif choice.lower() == 'n':\n",
        "            return False\n",
        "        else:\n",
        "            print(\"Invalid Choice\")"
      ],
      "metadata": {
        "id": "dlirHlk2gKcO"
      },
      "execution_count": null,
      "outputs": []
    },
    {
      "cell_type": "markdown",
      "source": [
        "# Game of TicTacToe"
      ],
      "metadata": {
        "id": "fII1e-xZbyZr"
      }
    },
    {
      "cell_type": "code",
      "source": [
        "def TicTacToe():\n",
        "\n",
        "    player1, player2, player1_marker, player2_marker = welcome()                # Tuple unpacking\n",
        "\n",
        "    player1_win_counter = player2_win_counter = 0\n",
        "\n",
        "    while True:                                                                 # Start a game loop\n",
        "        turn = randint(1,2)                                                     # Random player selector\n",
        "        if turn == 1:\n",
        "            print(f\"{player1} plays first!\")\n",
        "        else:\n",
        "            print(f\"{player2} plays first!\")\n",
        "\n",
        "        board = [' ' for i in range(10)]\n",
        "        game_on = True\n",
        "\n",
        "\n",
        "        while game_on == True:\n",
        "            if turn == 1:\n",
        "                # Player 1's turn\n",
        "                positions_board()\n",
        "                show_board(board)\n",
        "                print('', f\"'{player1}' => {player1_marker}\".center(15),'')\n",
        "                position = player_choice(board)\n",
        "                place_marker(board, position, player1_marker)\n",
        "\n",
        "                if win_check(board, player1_marker) == True:\n",
        "                    clear_output()\n",
        "                    show_board(board)\n",
        "                    print('', f\"Congratulations '{player1}', YOU WON!\",'', sep = '\\n')\n",
        "                    player1_win_counter += 1\n",
        "                    game_on = False\n",
        "                    break\n",
        "                elif full_board_check(board) == True:\n",
        "                    clear_output()\n",
        "                    show_board(board)\n",
        "                    print('',f\"The Game is TIED\",'', sep = '\\n')\n",
        "                    game_on = False\n",
        "                    break\n",
        "                else:\n",
        "                    turn = 2\n",
        "                    clear_output()\n",
        "\n",
        "            else:\n",
        "                # Player 2's turn\n",
        "                positions_board()\n",
        "                show_board(board)\n",
        "                print('', f\"'{player2}' => {player2_marker}\".center(15),'')\n",
        "                position = player_choice(board)\n",
        "                place_marker(board, position, player2_marker)\n",
        "\n",
        "                if win_check(board, player2_marker) == True:\n",
        "                    clear_output()\n",
        "                    show_board(board)\n",
        "                    print('', f\"Congratulations '{player2}', YOU WON!\",'', sep = '\\n')\n",
        "                    player2_win_counter += 1\n",
        "                    game_on = False\n",
        "                    break\n",
        "                elif full_board_check(board) == True:\n",
        "                    clear_output()\n",
        "                    show_board(board)\n",
        "                    print('',f\"The Game is TIED\",'', sep = '\\n')\n",
        "                    game_on = False\n",
        "                    break\n",
        "                else:\n",
        "                    turn = 1\n",
        "                    clear_output()\n",
        "\n",
        "        print('', 'Scoreboard', f\"'{player1}' = {player1_win_counter}\", f\"'{player2}' = {player2_win_counter}\",'','','', sep = '\\n')\n",
        "\n",
        "        if replay() == False:\n",
        "            clear_output()\n",
        "            break\n",
        "\n",
        "        clear_output()"
      ],
      "metadata": {
        "id": "F0ojleYHxAMN"
      },
      "execution_count": null,
      "outputs": []
    },
    {
      "cell_type": "code",
      "source": [
        "TicTacToe()"
      ],
      "metadata": {
        "id": "FhnxBL4IicdM"
      },
      "execution_count": null,
      "outputs": []
    }
  ]
}